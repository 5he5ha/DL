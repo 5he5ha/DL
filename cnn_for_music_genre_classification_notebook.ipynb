{
 "cells": [
  {
   "cell_type": "code",
   "execution_count": 1,
   "id": "6fdc1804",
   "metadata": {},
   "outputs": [],
   "source": [
    "## imports\n",
    "import os\n",
    "import numpy as np\n",
    "import tensorflow as tf\n",
    "from tensorflow import keras\n",
    "from tensorflow.io import read_file, decode_image\n",
    "import keras\n",
    "from keras.models import Model, Sequential\n",
    "from keras.layers import Input, Dense, Activation, Conv2D, MaxPooling2D, MaxPool2D, Flatten, Dropout, BatchNormalization\n",
    "from keras.optimizers import Adam\n",
    "from keras.utils import plot_model\n",
    "from sklearn.metrics import classification_report, accuracy_score\n",
    "from sklearn.model_selection import train_test_split, KFold\n",
    "import matplotlib.pyplot as plt\n",
    "import random\n",
    "import librosa\n",
    "import librosa.display"
   ]
  },
  {
   "cell_type": "code",
   "execution_count": 2,
   "id": "7a0732c5",
   "metadata": {},
   "outputs": [
    {
     "name": "stdout",
     "output_type": "stream",
     "text": [
      "1 Physical GPUs, 1 Logical GPUs\n"
     ]
    }
   ],
   "source": [
    "## from https://www.tensorflow.org/guide/gpu for limiting gpu growth\n",
    "gpus = tf.config.list_physical_devices('GPU')\n",
    "if gpus:\n",
    "    try:\n",
    "    # Currently, memory growth needs to be the same across GPUs\n",
    "        for gpu in gpus:\n",
    "            tf.config.experimental.set_memory_growth(gpu, True)\n",
    "        logical_gpus = tf.config.list_logical_devices('GPU')\n",
    "        print(len(gpus), \"Physical GPUs,\", len(logical_gpus), \"Logical GPUs\")\n",
    "    except RuntimeError as e:\n",
    "    # Memory growth must be set before GPUs have been initialized\n",
    "        print(e)"
   ]
  },
  {
   "cell_type": "code",
   "execution_count": null,
   "id": "b5efe8b4",
   "metadata": {},
   "outputs": [],
   "source": [
    "## read .wav files and convert to mel spectrograms\n",
    "\n",
    "dataset = []\n",
    "genres = {'blues': 0, 'classical': 1, 'country': 2, 'disco': 3, 'hiphop': 4, \n",
    "        'jazz': 5, 'metal': 6, 'pop': 7, 'reggae': 8, 'rock': 9}\n",
    "image_genres = {'blues', 'classical','country','disco'}\n",
    "images_dir = os.path.join(os.getcwd(),'Data','genres_original')\n",
    "\n",
    "for genre, genre_number in genres.items():\n",
    "    for filename in os.listdir(os.path.join(images_dir,genre)):\n",
    "        songname = os.path.join(images_dir, genre, filename)\n",
    "        for index in range(14):\n",
    "            y, sr = librosa.load(songname, mono=True, duration=2, offset=index*2)\n",
    "            ps = librosa.feature.melspectrogram(y=y, sr=sr, hop_length=256, n_fft=512, n_mels=64)\n",
    "            ps = librosa.power_to_db(ps**2)\n",
    "            dataset.append((ps, genre_number))"
   ]
  },
  {
   "cell_type": "code",
   "execution_count": null,
   "id": "92dd61f8",
   "metadata": {},
   "outputs": [],
   "source": [
    "## save dataset so previous cell doesn't have to be run after restarting kernel\n",
    "np.save('dataset_cnn.npy',dataset)"
   ]
  },
  {
   "cell_type": "code",
   "execution_count": 3,
   "id": "f0aae399",
   "metadata": {},
   "outputs": [],
   "source": [
    "## run this cell to load saved dataset\n",
    "genres = {'blues': 0, 'classical': 1, 'country': 2, 'disco': 3, 'hiphop': 4, \n",
    "        'jazz': 5, 'metal': 6, 'pop': 7, 'reggae': 8, 'rock': 9}\n",
    "class_num = len(genres)\n",
    "dataset = np.load('dataset_cnn.npy',allow_pickle=True)"
   ]
  },
  {
   "cell_type": "code",
   "execution_count": 4,
   "id": "d7de004e",
   "metadata": {},
   "outputs": [
    {
     "name": "stdout",
     "output_type": "stream",
     "text": [
      "Training size: 0.715000715000715\n",
      "Testing size: 0.141999141999142\n",
      "Validation size: 0.143000143000143\n"
     ]
    }
   ],
   "source": [
    "## shuffle and split dataset into training, testing, and validation\n",
    "\n",
    "random.shuffle(dataset)\n",
    "\n",
    "train = dataset[:10000]\n",
    "valid = dataset[10000:12000]\n",
    "test = dataset[12000:]\n",
    "\n",
    "print('Training size:',len(train)/len(dataset))\n",
    "print('Testing size:',len(test)/len(dataset))\n",
    "print('Validation size:',len(valid)/len(dataset))\n",
    "\n",
    "X_train, Y_train = zip(*train)\n",
    "X_valid, Y_valid = zip(*valid)\n",
    "X_test, Y_test = zip(*test)\n",
    "\n",
    "# Reshape for CNN input\n",
    "X_train = np.array([x.reshape( (64, 173, 1) ) for x in X_train])\n",
    "X_valid = np.array([x.reshape( (64, 173, 1) ) for x in X_valid])\n",
    "X_test = np.array([x.reshape( (64, 173, 1) ) for x in X_test])\n",
    "\n",
    "# One-Hot encoding for classes\n",
    "Y_train = np.array(keras.utils.to_categorical(Y_train, class_num))\n",
    "Y_valid = np.array(keras.utils.to_categorical(Y_valid, class_num))\n",
    "Y_test = np.array(keras.utils.to_categorical(Y_test, class_num))\n",
    "\n",
    "input_shape = X_train[0].shape"
   ]
  },
  {
   "cell_type": "code",
   "execution_count": 10,
   "id": "5c73eb93",
   "metadata": {},
   "outputs": [],
   "source": [
    "## cnn model, based on vgg-19\n",
    "def define_cnn(input_shape, class_num):\n",
    "\n",
    "    model = Sequential([\n",
    "      \n",
    "        Conv2D(filters=64, kernel_size=(3,3), strides=(1,1), padding='same', activation='relu', input_shape=input_shape),\n",
    "        MaxPool2D(pool_size=(2,2)),\n",
    "    \n",
    "        Conv2D(filters=128, kernel_size=(3,3), strides=(1,1), padding='same', activation='relu'),\n",
    "        MaxPool2D(pool_size=(2,2)),\n",
    "    \n",
    "        Conv2D(filters=256, kernel_size=(3,3), strides=(1,1), padding='same', activation='relu'),\n",
    "        Conv2D(filters=256, kernel_size=(3,3), strides=(1,1), padding='same', activation='relu'),\n",
    "        MaxPool2D(pool_size=(2,2)),\n",
    "        Dropout(0.2),\n",
    "        \n",
    "        Conv2D(filters=512, kernel_size=(3,3), strides=(1,1), padding='same', activation='relu'),\n",
    "        Conv2D(filters=512, kernel_size=(3,3), strides=(1,1), padding='same', activation='relu'),\n",
    "        MaxPool2D(pool_size=(2,2)),\n",
    "        Dropout(0.2),\n",
    "        \n",
    "        Conv2D(filters=512, kernel_size=(3,3), strides=(1,1), padding='same', activation='relu'),\n",
    "        Conv2D(filters=512, kernel_size=(3,3), strides=(1,1), padding='same', activation='relu'),\n",
    "        MaxPool2D(pool_size=(2,2)),\n",
    "        Dropout(0.2),\n",
    "    \n",
    "        Flatten(),\n",
    "        Dense(512, activation='relu'),\n",
    "        Dropout(0.25),\n",
    "        Dense(256, activation='relu'),\n",
    "        Dropout(0.25),\n",
    "        Dense(class_num, activation='softmax')\n",
    "\n",
    "    ])\n",
    "    optimizer = Adam()\n",
    "    model.compile(\n",
    "      \n",
    "        optimizer=optimizer,\n",
    "        loss='categorical_crossentropy',\n",
    "        metrics=['accuracy']\n",
    "\n",
    "    )\n",
    "    return model"
   ]
  },
  {
   "cell_type": "code",
   "execution_count": 7,
   "id": "091eccf6",
   "metadata": {},
   "outputs": [
    {
     "data": {
      "text/plain": [
       "0.0"
      ]
     },
     "execution_count": 7,
     "metadata": {},
     "output_type": "execute_result"
    }
   ],
   "source": [
    "## used to check gpu usage\n",
    "tf.config.experimental.get_memory_info('GPU:0')['current'] / 10**9"
   ]
  },
  {
   "cell_type": "code",
   "execution_count": 5,
   "id": "5b8d8b4e",
   "metadata": {},
   "outputs": [],
   "source": [
    "## function for model fitting\n",
    "def train_model(model, X, y, X_vd, y_vd):\n",
    "    history = model.fit(\n",
    "        X,\n",
    "        y,\n",
    "        epochs=20,\n",
    "        batch_size=64,\n",
    "        validation_data=(X_vd,y_vd)\n",
    "    )\n",
    "    return model, history"
   ]
  },
  {
   "cell_type": "code",
   "execution_count": 8,
   "id": "d929c10b",
   "metadata": {},
   "outputs": [],
   "source": [
    "## function for model evaluation\n",
    "def model_prediction(model, X_data, y_true):\n",
    "    y_pred = model.predict(X_data)\n",
    "    y_pred = y_pred.argmax(axis=1)\n",
    "    y_true = y_true.argmax(axis=1) # use this line if label is one-hot using categorical crossentropy\n",
    "    accuracy = accuracy_score(y_true, y_pred)\n",
    "    print(classification_report(y_true, y_pred, target_names=genres))\n",
    "    print('Overall Accuracy:', accuracy)\n",
    "    \n",
    "    return y_pred, accuracy"
   ]
  },
  {
   "cell_type": "code",
   "execution_count": 11,
   "id": "1748a6b0",
   "metadata": {},
   "outputs": [],
   "source": [
    "cnn_model = define_cnn(input_shape, class_num)"
   ]
  },
  {
   "cell_type": "code",
   "execution_count": null,
   "id": "cf3c5670",
   "metadata": {},
   "outputs": [],
   "source": [
    "## model summary and diagram\n",
    "cnn_model.summary()\n",
    "plot_model(cnn_model, to_file='cnn_model_plot.png', show_shapes=True,show_layer_names=False)"
   ]
  },
  {
   "cell_type": "code",
   "execution_count": 12,
   "id": "00f97714",
   "metadata": {
    "scrolled": false
   },
   "outputs": [
    {
     "name": "stdout",
     "output_type": "stream",
     "text": [
      "Epoch 1/20\n",
      "157/157 [==============================] - 27s 108ms/step - loss: 2.3062 - accuracy: 0.1445 - val_loss: 2.0263 - val_accuracy: 0.2205\n",
      "Epoch 2/20\n",
      "157/157 [==============================] - 15s 95ms/step - loss: 1.8625 - accuracy: 0.2838 - val_loss: 1.6243 - val_accuracy: 0.3570\n",
      "Epoch 3/20\n",
      "157/157 [==============================] - 15s 95ms/step - loss: 1.5411 - accuracy: 0.4190 - val_loss: 1.3911 - val_accuracy: 0.4850\n",
      "Epoch 4/20\n",
      "157/157 [==============================] - 15s 95ms/step - loss: 1.3167 - accuracy: 0.5097 - val_loss: 1.4491 - val_accuracy: 0.4975\n",
      "Epoch 5/20\n",
      "157/157 [==============================] - 15s 95ms/step - loss: 1.1172 - accuracy: 0.6057 - val_loss: 1.2757 - val_accuracy: 0.5810\n",
      "Epoch 6/20\n",
      "157/157 [==============================] - 15s 96ms/step - loss: 0.9488 - accuracy: 0.6793 - val_loss: 1.0045 - val_accuracy: 0.6840\n",
      "Epoch 7/20\n",
      "157/157 [==============================] - 15s 95ms/step - loss: 0.7670 - accuracy: 0.7476 - val_loss: 0.9062 - val_accuracy: 0.7295\n",
      "Epoch 8/20\n",
      "157/157 [==============================] - 15s 95ms/step - loss: 0.6115 - accuracy: 0.8013 - val_loss: 0.7547 - val_accuracy: 0.7490\n",
      "Epoch 9/20\n",
      "157/157 [==============================] - 15s 96ms/step - loss: 0.4941 - accuracy: 0.8428 - val_loss: 0.7460 - val_accuracy: 0.7770\n",
      "Epoch 10/20\n",
      "157/157 [==============================] - 15s 96ms/step - loss: 0.4140 - accuracy: 0.8689 - val_loss: 0.6353 - val_accuracy: 0.8250\n",
      "Epoch 11/20\n",
      "157/157 [==============================] - 15s 96ms/step - loss: 0.3799 - accuracy: 0.8786 - val_loss: 0.6749 - val_accuracy: 0.8050\n",
      "Epoch 12/20\n",
      "157/157 [==============================] - 15s 96ms/step - loss: 0.2965 - accuracy: 0.9035 - val_loss: 0.6605 - val_accuracy: 0.8125\n",
      "Epoch 13/20\n",
      "157/157 [==============================] - 15s 96ms/step - loss: 0.2778 - accuracy: 0.9157 - val_loss: 0.5859 - val_accuracy: 0.8340\n",
      "Epoch 14/20\n",
      "157/157 [==============================] - 15s 96ms/step - loss: 0.2280 - accuracy: 0.9238 - val_loss: 0.6483 - val_accuracy: 0.8300\n",
      "Epoch 15/20\n",
      "157/157 [==============================] - 15s 95ms/step - loss: 0.2048 - accuracy: 0.9351 - val_loss: 0.6750 - val_accuracy: 0.8480\n",
      "Epoch 16/20\n",
      "157/157 [==============================] - 15s 95ms/step - loss: 0.1763 - accuracy: 0.9476 - val_loss: 0.5725 - val_accuracy: 0.8565\n",
      "Epoch 17/20\n",
      "157/157 [==============================] - 15s 95ms/step - loss: 0.1783 - accuracy: 0.9419 - val_loss: 0.6838 - val_accuracy: 0.8275\n",
      "Epoch 18/20\n",
      "157/157 [==============================] - 15s 95ms/step - loss: 0.1792 - accuracy: 0.9433 - val_loss: 0.6333 - val_accuracy: 0.8585\n",
      "Epoch 19/20\n",
      "157/157 [==============================] - 15s 95ms/step - loss: 0.1454 - accuracy: 0.9560 - val_loss: 0.6550 - val_accuracy: 0.8520\n",
      "Epoch 20/20\n",
      "157/157 [==============================] - 15s 96ms/step - loss: 0.1628 - accuracy: 0.9526 - val_loss: 0.6626 - val_accuracy: 0.8450\n"
     ]
    }
   ],
   "source": [
    "\n",
    "cnn_model_trained, history = train_model(cnn_model, X_train, Y_train, X_valid, Y_valid)"
   ]
  },
  {
   "cell_type": "code",
   "execution_count": 13,
   "id": "f3285903",
   "metadata": {},
   "outputs": [
    {
     "data": {
      "text/plain": [
       "Text(0.5, 1.0, 'Accuracy')"
      ]
     },
     "execution_count": 13,
     "metadata": {},
     "output_type": "execute_result"
    },
    {
     "data": {
      "image/png": "[encoded data removed]",
      "text/plain": [
       "<Figure size 640x480 with 2 Axes>"
      ]
     },
     "metadata": {},
     "output_type": "display_data"
    }
   ],
   "source": [
    "plt.subplot(2,1,1)\n",
    "plt.plot(history.history['loss'], label='train')\n",
    "plt.plot(history.history['val_loss'], label='validation')\n",
    "plt.title('Loss')\n",
    "plt.xticks([], [])\n",
    "plt.legend()\n",
    "plt.subplot(2,1,2)\n",
    "plt.plot(history.history['accuracy'], label='train')\n",
    "plt.plot(history.history['val_accuracy'], label='validation')\n",
    "plt.xlabel('Epochs')\n",
    "plt.title('Accuracy')"
   ]
  },
  {
   "cell_type": "code",
   "execution_count": 14,
   "id": "bc1d8c3b",
   "metadata": {
    "scrolled": true
   },
   "outputs": [
    {
     "name": "stdout",
     "output_type": "stream",
     "text": [
      "63/63 [==============================] - 3s 19ms/step\n",
      "              precision    recall  f1-score   support\n",
      "\n",
      "       blues       0.96      0.61      0.75       196\n",
      "   classical       0.93      0.97      0.95       212\n",
      "     country       0.78      0.83      0.80       208\n",
      "       disco       0.87      0.91      0.89       208\n",
      "      hiphop       0.94      0.75      0.83       182\n",
      "        jazz       0.77      0.92      0.84       200\n",
      "       metal       0.94      0.90      0.92       193\n",
      "         pop       0.85      0.84      0.85       211\n",
      "      reggae       0.76      0.91      0.83       194\n",
      "        rock       0.67      0.69      0.68       182\n",
      "\n",
      "    accuracy                           0.84      1986\n",
      "   macro avg       0.85      0.83      0.83      1986\n",
      "weighted avg       0.85      0.84      0.84      1986\n",
      "\n",
      "Overall Accuracy: 0.8373615307150051\n",
      "313/313 [==============================] - 4s 13ms/step\n",
      "              precision    recall  f1-score   support\n",
      "\n",
      "       blues       1.00      0.89      0.94       974\n",
      "   classical       0.99      0.99      0.99      1042\n",
      "     country       0.96      0.97      0.96      1031\n",
      "       disco       0.98      0.99      0.99       911\n",
      "      hiphop       1.00      0.97      0.99      1036\n",
      "        jazz       0.94      0.99      0.96       969\n",
      "       metal       0.99      0.99      0.99      1007\n",
      "         pop       0.99      0.99      0.99       977\n",
      "      reggae       0.93      0.99      0.96      1051\n",
      "        rock       0.96      0.96      0.96      1002\n",
      "\n",
      "    accuracy                           0.97     10000\n",
      "   macro avg       0.97      0.97      0.97     10000\n",
      "weighted avg       0.97      0.97      0.97     10000\n",
      "\n",
      "Overall Accuracy: 0.9728\n"
     ]
    }
   ],
   "source": [
    "y_im_pred, acc_cnn2d = model_prediction(cnn_model_trained, X_test, Y_test)\n",
    "_,_ = model_prediction(cnn_model_trained, X_train, Y_train)"
   ]
  },
  {
   "cell_type": "markdown",
   "id": "dc790f59",
   "metadata": {},
   "source": [
    "Results of test set after training on training and validation sets\n",
    "\n",
    "              precision    recall  f1-score   support\n",
    "\n",
    "       blues       0.83      0.87      0.85       202\n",
    "   classical       0.94      0.95      0.95       202\n",
    "     country       0.76      0.80      0.78       189\n",
    "       disco       0.91      0.87      0.89       190\n",
    "      hiphop       0.88      0.90      0.89       218\n",
    "        jazz       0.87      0.84      0.86       194\n",
    "       metal       0.94      0.91      0.92       189\n",
    "         pop       0.85      0.82      0.84       203\n",
    "      reggae       0.90      0.82      0.86       216\n",
    "        rock       0.72      0.79      0.75       183\n",
    "\n",
    "    accuracy                           0.86      1986\n",
    "   macro avg       0.86      0.86      0.86      1986\n",
    "weighted avg       0.86      0.86      0.86      1986\n",
    "\n",
    "Overall Accuracy: 0.8590130916414904"
   ]
  },
  {
   "cell_type": "code",
   "execution_count": null,
   "id": "e07a4957",
   "metadata": {},
   "outputs": [],
   "source": [
    "np.mean([0.9245889921372409, 0.9063282087951376, 0.9295673936360386, 0.882016446192349, 0.9156540385989993])"
   ]
  },
  {
   "cell_type": "code",
   "execution_count": 16,
   "id": "a319ee44",
   "metadata": {
    "scrolled": true
   },
   "outputs": [
    {
     "name": "stdout",
     "output_type": "stream",
     "text": [
      "0.7999427999427999\n",
      "0.8000143000143\n",
      "0.8000143000143\n",
      "0.8000143000143\n",
      "0.8000143000143\n",
      "Mean Accuracy: nan%\n",
      "Accuracy Scores for Each Fold:  []\n"
     ]
    },
    {
     "name": "stderr",
     "output_type": "stream",
     "text": [
      "C:\\Users\\slack\\anaconda3\\envs\\infoh518\\lib\\site-packages\\numpy\\core\\fromnumeric.py:3432: RuntimeWarning: Mean of empty slice.\n",
      "  return _methods._mean(a, axis=axis, dtype=dtype,\n",
      "C:\\Users\\slack\\anaconda3\\envs\\infoh518\\lib\\site-packages\\numpy\\core\\_methods.py:190: RuntimeWarning: invalid value encountered in double_scalars\n",
      "  ret = ret.dtype.type(ret / rcount)\n"
     ]
    }
   ],
   "source": [
    "X, Y = zip(*dataset)\n",
    "\n",
    "X = np.array([x.reshape( (64, 173, 1) ) for x in X])\n",
    "Y = np.array(keras.utils.to_categorical(Y, class_num))\n",
    "\n",
    "\n",
    "n_folds = 5\n",
    "kf = KFold(n_splits=n_folds, shuffle=True, random_state=42)\n",
    "accuracy_scores = []\n",
    "i = 0\n",
    "for train_index, test_index in kf.split(X):\n",
    "    \n",
    "    X_train = X[train_index]\n",
    "    X_test = X[test_index]\n",
    "    Y_train = Y[train_index]\n",
    "    Y_test = Y[test_index]\n",
    "    input_shape = X_train[0].shape\n",
    "    cnn_model = define_cnn(input_shape, class_num)\n",
    "    trained_model, history = train_model(cnn_model, \n",
    "                                         X_train, Y_train,\n",
    "                                         X_test, Y_test)\n",
    "    \n",
    "    accuracy = model_prediction(trained_model, X_test, Y_test)\n",
    "    accuracy_scores.append(accuracy)\n",
    "        \n",
    "mean_accuracy = np.mean(accuracy_scores)\n",
    "print(\"Mean Accuracy: {:.2f}%\".format(mean_accuracy * 100))\n",
    "print(\"Accuracy Scores for Each Fold: \", accuracy_scores) "
   ]
  },
  {
   "cell_type": "code",
   "execution_count": 15,
   "id": "8d188e1d",
   "metadata": {},
   "outputs": [
    {
     "data": {
      "text/plain": [
       "0.20005720005720007"
      ]
     },
     "execution_count": 15,
     "metadata": {},
     "output_type": "execute_result"
    }
   ],
   "source": [
    "X, Y = zip(*dataset)\n",
    "\n",
    "X = np.array([x.reshape( (64, 173, 1) ) for x in X])\n",
    "Y = np.array(keras.utils.to_categorical(Y, class_num))\n"
   ]
  },
  {
   "cell_type": "markdown",
   "id": "ee8cbaf1",
   "metadata": {},
   "source": [
    "k-fold cross validation results\n",
    "\n",
    "Fold 1:\n",
    "              precision    recall  f1-score   support\n",
    "\n",
    "       blues       0.91      0.91      0.91       279\n",
    "   classical       0.96      0.97      0.97       294\n",
    "     country       0.84      0.94      0.89       295\n",
    "       disco       0.82      0.96      0.89       280\n",
    "      hiphop       0.97      0.92      0.94       281\n",
    "        jazz       0.97      0.85      0.90       264\n",
    "       metal       0.98      0.92      0.95       308\n",
    "         pop       0.91      0.94      0.93       244\n",
    "      reggae       0.96      0.92      0.94       281\n",
    "        rock       0.87      0.80      0.84       272\n",
    "\n",
    "    accuracy                           0.92      2798\n",
    "   macro avg       0.92      0.91      0.92      2798\n",
    "weighted avg       0.92      0.92      0.92      2798\n",
    "\n",
    "Overall Accuracy: 0.9156540385989993\n",
    "\n",
    "Fold 2:\n",
    "              precision    recall  f1-score   support\n",
    "\n",
    "       blues       0.83      0.87      0.85       287\n",
    "   classical       0.87      0.98      0.92       264\n",
    "     country       0.75      0.92      0.83       281\n",
    "       disco       0.93      0.89      0.91       266\n",
    "      hiphop       0.94      0.86      0.90       263\n",
    "        jazz       0.97      0.76      0.85       288\n",
    "       metal       0.90      0.96      0.93       287\n",
    "         pop       0.90      0.96      0.93       290\n",
    "      reggae       0.98      0.81      0.89       302\n",
    "        rock       0.82      0.81      0.82       269\n",
    "\n",
    "    accuracy                           0.88      2797\n",
    "   macro avg       0.89      0.88      0.88      2797\n",
    "weighted avg       0.89      0.88      0.88      2797\n",
    "\n",
    "Overall Accuracy: 0.882016446192349\n",
    "\n",
    "Fold 3:\n",
    "              precision    recall  f1-score   support\n",
    "\n",
    "       blues       0.89      0.97      0.93       291\n",
    "   classical       0.93      0.98      0.95       304\n",
    "     country       0.97      0.86      0.91       298\n",
    "       disco       0.95      0.93      0.94       264\n",
    "      hiphop       0.91      0.98      0.94       283\n",
    "        jazz       0.93      0.92      0.93       250\n",
    "       metal       0.94      0.98      0.96       297\n",
    "         pop       0.94      0.89      0.92       238\n",
    "      reggae       0.98      0.91      0.94       291\n",
    "        rock       0.88      0.86      0.87       281\n",
    "\n",
    "    accuracy                           0.93      2797\n",
    "   macro avg       0.93      0.93      0.93      2797\n",
    "weighted avg       0.93      0.93      0.93      2797\n",
    "\n",
    "Overall Accuracy: 0.9295673936360386\n",
    "\n",
    "Fold 4:\n",
    "              precision    recall  f1-score   support\n",
    "\n",
    "       blues       0.93      0.91      0.92       291\n",
    "   classical       0.97      0.98      0.98       291\n",
    "     country       0.94      0.81      0.87       299\n",
    "       disco       0.82      0.95      0.88       246\n",
    "      hiphop       0.95      0.93      0.94       284\n",
    "        jazz       0.90      0.95      0.92       273\n",
    "       metal       0.96      0.91      0.93       297\n",
    "         pop       0.89      0.89      0.89       263\n",
    "      reggae       0.97      0.87      0.92       271\n",
    "        rock       0.76      0.87      0.81       282\n",
    "\n",
    "    accuracy                           0.91      2797\n",
    "   macro avg       0.91      0.91      0.91      2797\n",
    "weighted avg       0.91      0.91      0.91      2797\n",
    "\n",
    "Overall Accuracy: 0.9063282087951376\n",
    "\n",
    "Fold 5:\n",
    "              precision    recall  f1-score   support\n",
    "\n",
    "       blues       0.94      0.90      0.92       279\n",
    "   classical       0.93      1.00      0.96       294\n",
    "     country       0.85      0.92      0.88       295\n",
    "       disco       0.93      0.93      0.93       280\n",
    "      hiphop       0.97      0.94      0.95       281\n",
    "        jazz       0.94      0.89      0.92       264\n",
    "       metal       0.94      0.96      0.95       308\n",
    "         pop       0.90      0.97      0.93       244\n",
    "      reggae       0.94      0.93      0.93       281\n",
    "        rock       0.91      0.81      0.86       272\n",
    "\n",
    "    accuracy                           0.92      2798\n",
    "   macro avg       0.93      0.92      0.92      2798\n",
    "weighted avg       0.93      0.92      0.92      2798\n",
    "\n",
    "Overall Accuracy: 0.9245889921372409\n",
    "\n",
    "Mean accuracy: 91.16%"
   ]
  },
  {
   "cell_type": "markdown",
   "id": "f7027c45",
   "metadata": {},
   "source": [
    "## "
   ]
  }
 ],
 "metadata": {
  "kernelspec": {
   "display_name": "Python [conda env:infoh518]",
   "language": "python",
   "name": "conda-env-infoh518-py"
  },
  "language_info": {
   "codemirror_mode": {
    "name": "ipython",
    "version": 3
   },
   "file_extension": ".py",
   "mimetype": "text/x-python",
   "name": "python",
   "nbconvert_exporter": "python",
   "pygments_lexer": "ipython3",
   "version": "3.10.10"
  }
 },
 "nbformat": 4,
 "nbformat_minor": 5
}
