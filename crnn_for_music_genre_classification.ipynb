{
  "nbformat": 4,
  "nbformat_minor": 0,
  "metadata": {
    "colab": {
      "provenance": []
    },
    "kernelspec": {
      "name": "python3",
      "display_name": "Python 3"
    },
    "language_info": {
      "name": "python"
    },
    "accelerator": "GPU",
    "gpuClass": "standard"
  },
  "cells": [
    {
      "cell_type": "code",
      "execution_count": 2,
      "metadata": {
        "id": "R6KJeBfz_A8o"
      },
      "outputs": [],
      "source": [
        "#importing libraries\n",
        "\n",
        "import warnings\n",
        "warnings.filterwarnings('ignore')\n",
        "import pandas as pd\n",
        "import numpy as np\n",
        "import librosa\n",
        "import matplotlib.pyplot as plt\n",
        "\n",
        "import os\n",
        "from PIL import Image\n",
        "from pathlib import Path\n",
        "import csv\n",
        "\n",
        "from sklearn.model_selection import train_test_split\n",
        "from sklearn.preprocessing import LabelEncoder, StandardScaler\n",
        "\n",
        "from sklearn.linear_model import LinearRegression\n",
        "from sklearn.svm import SVC\n",
        "from sklearn.ensemble import RandomForestClassifier\n",
        "\n",
        "import tensorflow as tf\n",
        "import keras\n",
        "import librosa.display\n",
        "from keras import models\n",
        "from keras import layers\n",
        "from keras import Input, backend, Model\n",
        "from keras.layers import LSTM\n",
        "from keras.models import Sequential\n",
        "from keras.layers import Dense, Lambda\n",
        "from keras.layers import Activation\n",
        "from keras.layers import Conv2D\n",
        "from keras.layers import MaxPooling2D\n",
        "from keras.layers import Dropout\n",
        "from keras.layers import Flatten, GRU\n",
        "from keras.layers import BatchNormalization\n",
        "from keras.layers import AveragePooling2D\n",
        "from keras.layers import TimeDistributed\n",
        "from tensorflow.keras import backend\n",
        "\n",
        "from keras import regularizers\n",
        "\n"
      ]
    },
    {
      "cell_type": "code",
      "source": [
        "from google.colab import drive\n",
        "drive.mount('/content/drive/') "
      ],
      "metadata": {
        "colab": {
          "base_uri": "https://localhost:8080/"
        },
        "id": "DuqmQvysEmq-",
        "outputId": "99200ab4-2a2d-4344-caff-8a337a338df2"
      },
      "execution_count": 3,
      "outputs": [
        {
          "output_type": "stream",
          "name": "stdout",
          "text": [
            "Mounted at /content/drive/\n"
          ]
        }
      ]
    },
    {
      "cell_type": "code",
      "source": [
        "songname = '/content/drive/MyDrive/Drive/Data/genres/blues/blues.00000.wav'\n",
        "y, sr = librosa.load(songname, mono=True, duration=2, offset=0)\n",
        "ps = librosa.feature.melspectrogram(y=y, sr=sr, hop_length = 256, n_fft = 512, n_mels=128)\n",
        "ps = librosa.power_to_db(ps**2)\n",
        "ps.shape"
      ],
      "metadata": {
        "colab": {
          "base_uri": "https://localhost:8080/"
        },
        "id": "grLWE6J3Mn5q",
        "outputId": "31f9b689-4a09-4807-b78d-a708d3996f97"
      },
      "execution_count": 4,
      "outputs": [
        {
          "output_type": "execute_result",
          "data": {
            "text/plain": [
              "(128, 173)"
            ]
          },
          "metadata": {},
          "execution_count": 4
        }
      ]
    },
    {
      "cell_type": "code",
      "source": [
        "dataset = []\n",
        "genres = {'blues': 0, 'classical': 1, 'country': 2, 'disco': 3, 'hiphop': 4, \n",
        "        'jazz': 5, 'metal': 6, 'pop': 7, 'reggae': 8, 'rock': 9}\n",
        "\n",
        "for genre, genre_number in genres.items():\n",
        "    for filename in os.listdir('/content/drive/MyDrive/Drive/Data/genres/' + genre):\n",
        "        songname = os.path.join('/content/drive/MyDrive/Drive/Data/genres', genre, filename)\n",
        "        for index in range(14):\n",
        "            y, sr = librosa.load(songname, mono=True, duration=2, offset=index*2)\n",
        "            ps = librosa.feature.melspectrogram(y=y, sr=sr, hop_length=256, n_fft=512, n_mels=64)\n",
        "            ps = librosa.power_to_db(ps**2)\n",
        "            dataset.append((ps, genre_number))\n",
        "\n"
      ],
      "metadata": {
        "id": "HOGXWGUzM8tU"
      },
      "execution_count": 5,
      "outputs": []
    },
    {
      "cell_type": "code",
      "source": [
        "print(len(dataset))"
      ],
      "metadata": {
        "colab": {
          "base_uri": "https://localhost:8080/"
        },
        "id": "orGL8AzOTXYU",
        "outputId": "bca7e3f5-d405-424e-e52b-4028f13cef60"
      },
      "execution_count": 6,
      "outputs": [
        {
          "output_type": "stream",
          "name": "stdout",
          "text": [
            "13986\n"
          ]
        }
      ]
    },
    {
      "cell_type": "code",
      "source": [
        "import random\n",
        "\n",
        "random.shuffle(dataset)\n",
        "\n",
        "train = dataset[:10000]\n",
        "valid = dataset[10000:12000]\n",
        "test = dataset[12000:]\n",
        "\n",
        "X_train, Y_train = zip(*train)\n",
        "X_valid, Y_valid = zip(*valid)\n",
        "X_test, Y_test = zip(*test)\n",
        "\n",
        "# Reshape for CNN input\n",
        "X_train = np.array([x.reshape( (64, 173, 1) ) for x in X_train])\n",
        "X_valid = np.array([x.reshape( (64, 173, 1) ) for x in X_valid])\n",
        "X_test = np.array([x.reshape( (64, 173, 1) ) for x in X_test])\n",
        "\n",
        "# One-Hot encoding for classes\n",
        "Y_train = np.array(keras.utils.to_categorical(Y_train, 10))\n",
        "Y_valid = np.array(keras.utils.to_categorical(Y_valid, 10))\n",
        "Y_test = np.array(keras.utils.to_categorical(Y_test, 10))"
      ],
      "metadata": {
        "id": "rzuNM6Q7TfyY"
      },
      "execution_count": 7,
      "outputs": []
    },
    {
      "cell_type": "code",
      "source": [
        "len(X_train)\n",
        "X_train.shape\n",
        "n_features = X_train.shape[2]\n",
        "input_shape = (None, X_train.shape[1])\n",
        "print(input_shape)\n",
        "model_input = Input(input_shape, name='input')\n",
        "print(model_input)\n",
        "X_train.shape"
      ],
      "metadata": {
        "colab": {
          "base_uri": "https://localhost:8080/"
        },
        "id": "Q6q5vPZrTonf",
        "outputId": "0f66dbb2-6da1-42a2-ba54-992ddb4e56d1"
      },
      "execution_count": 8,
      "outputs": [
        {
          "output_type": "stream",
          "name": "stdout",
          "text": [
            "(None, 64)\n",
            "KerasTensor(type_spec=TensorSpec(shape=(None, None, 64), dtype=tf.float32, name='input'), name='input', description=\"created by layer 'input'\")\n"
          ]
        },
        {
          "output_type": "execute_result",
          "data": {
            "text/plain": [
              "(10000, 64, 173, 1)"
            ]
          },
          "metadata": {},
          "execution_count": 8
        }
      ]
    },
    {
      "cell_type": "code",
      "source": [
        "model = Sequential()\n",
        "\n",
        "model.add(Conv2D(20, (5, 5), input_shape=(64, 173, 1),\n",
        "                 activation=\"relu\", strides=1, padding=\"valid\"))\n",
        "model.add(MaxPooling2D(pool_size=(2, 2)))\n",
        "model.add(Conv2D(50, (5, 5), use_bias=50))\n",
        "model.add(MaxPooling2D(pool_size=(2, 2)))\n",
        "model.add(Flatten())\n",
        "model.add(Dense(20, activation=\"relu\"))\n",
        "model.add(Lambda(lambda x: backend.expand_dims(x, axis=-1)))\n",
        "model.add(LSTM(512, activation=\"relu\", return_sequences=False))\n",
        "model.add(Dense(10, activation = \"softmax\"))\n",
        "model.summary()"
      ],
      "metadata": {
        "colab": {
          "base_uri": "https://localhost:8080/"
        },
        "id": "FxFVsN_yVOox",
        "outputId": "c60e857a-d75c-4d16-abfa-630b0e1642cc"
      },
      "execution_count": 9,
      "outputs": [
        {
          "output_type": "stream",
          "name": "stderr",
          "text": [
            "WARNING:tensorflow:Layer lstm will not use cuDNN kernels since it doesn't meet the criteria. It will use a generic GPU kernel as fallback when running on GPU.\n"
          ]
        },
        {
          "output_type": "stream",
          "name": "stdout",
          "text": [
            "Model: \"sequential\"\n",
            "_________________________________________________________________\n",
            " Layer (type)                Output Shape              Param #   \n",
            "=================================================================\n",
            " conv2d (Conv2D)             (None, 60, 169, 20)       520       \n",
            "                                                                 \n",
            " max_pooling2d (MaxPooling2D  (None, 30, 84, 20)       0         \n",
            " )                                                               \n",
            "                                                                 \n",
            " conv2d_1 (Conv2D)           (None, 26, 80, 50)        25050     \n",
            "                                                                 \n",
            " max_pooling2d_1 (MaxPooling  (None, 13, 40, 50)       0         \n",
            " 2D)                                                             \n",
            "                                                                 \n",
            " flatten (Flatten)           (None, 26000)             0         \n",
            "                                                                 \n",
            " dense (Dense)               (None, 20)                520020    \n",
            "                                                                 \n",
            " lambda (Lambda)             (None, 20, 1)             0         \n",
            "                                                                 \n",
            " lstm (LSTM)                 (None, 512)               1052672   \n",
            "                                                                 \n",
            " dense_1 (Dense)             (None, 10)                5130      \n",
            "                                                                 \n",
            "=================================================================\n",
            "Total params: 1,603,392\n",
            "Trainable params: 1,603,392\n",
            "Non-trainable params: 0\n",
            "_________________________________________________________________\n"
          ]
        }
      ]
    },
    {
      "cell_type": "code",
      "source": [],
      "metadata": {
        "id": "Moz-zegpYCQv"
      },
      "execution_count": null,
      "outputs": []
    },
    {
      "cell_type": "code",
      "source": [
        "from keras.optimizers import Adam\n",
        "model.compile(optimizer=Adam(lr = 1e-5), loss=\"categorical_crossentropy\", metrics=['accuracy'])"
      ],
      "metadata": {
        "id": "RuSugejpW2hZ"
      },
      "execution_count": 10,
      "outputs": []
    },
    {
      "cell_type": "code",
      "source": [
        "from keras.callbacks import EarlyStopping\n",
        "early_stopping = EarlyStopping(monitor='val_loss', patience=20, verbose=2)\n",
        "history = model.fit(X_train, Y_train, epochs=90, batch_size=64, validation_data= (X_test, Y_test), callbacks=[early_stopping])"
      ],
      "metadata": {
        "colab": {
          "base_uri": "https://localhost:8080/"
        },
        "id": "GHptbA60W6Xr",
        "outputId": "62bb3acb-4a53-4ccc-e633-0e2600bc17ac"
      },
      "execution_count": 11,
      "outputs": [
        {
          "output_type": "stream",
          "name": "stdout",
          "text": [
            "Epoch 1/90\n",
            "157/157 [==============================] - 20s 64ms/step - loss: 2.2763 - accuracy: 0.0982 - val_loss: 2.2112 - val_accuracy: 0.1143\n",
            "Epoch 2/90\n",
            "157/157 [==============================] - 9s 57ms/step - loss: 2.1665 - accuracy: 0.1367 - val_loss: 2.1067 - val_accuracy: 0.1828\n",
            "Epoch 3/90\n",
            "157/157 [==============================] - 7s 47ms/step - loss: 2.0433 - accuracy: 0.2140 - val_loss: 2.0001 - val_accuracy: 0.2487\n",
            "Epoch 4/90\n",
            "157/157 [==============================] - 9s 60ms/step - loss: 1.9216 - accuracy: 0.2700 - val_loss: 1.8781 - val_accuracy: 0.3122\n",
            "Epoch 5/90\n",
            "157/157 [==============================] - 7s 46ms/step - loss: 1.8106 - accuracy: 0.3362 - val_loss: 1.7318 - val_accuracy: 0.3691\n",
            "Epoch 6/90\n",
            "157/157 [==============================] - 9s 60ms/step - loss: 1.6876 - accuracy: 0.3914 - val_loss: 1.6677 - val_accuracy: 0.3882\n",
            "Epoch 7/90\n",
            "157/157 [==============================] - 9s 58ms/step - loss: 1.5950 - accuracy: 0.4268 - val_loss: 1.5864 - val_accuracy: 0.4174\n",
            "Epoch 8/90\n",
            "157/157 [==============================] - 7s 47ms/step - loss: 1.5446 - accuracy: 0.4465 - val_loss: 1.5378 - val_accuracy: 0.4411\n",
            "Epoch 9/90\n",
            "157/157 [==============================] - 12s 77ms/step - loss: 1.5023 - accuracy: 0.4610 - val_loss: 1.5025 - val_accuracy: 0.4517\n",
            "Epoch 10/90\n",
            "157/157 [==============================] - 9s 60ms/step - loss: 1.4700 - accuracy: 0.4781 - val_loss: 1.4817 - val_accuracy: 0.4587\n",
            "Epoch 11/90\n",
            "157/157 [==============================] - 7s 47ms/step - loss: 1.4431 - accuracy: 0.4876 - val_loss: 1.4807 - val_accuracy: 0.4512\n",
            "Epoch 12/90\n",
            "157/157 [==============================] - 9s 60ms/step - loss: 1.4249 - accuracy: 0.4951 - val_loss: 1.4525 - val_accuracy: 0.4688\n",
            "Epoch 13/90\n",
            "157/157 [==============================] - 9s 59ms/step - loss: 1.4216 - accuracy: 0.4925 - val_loss: 1.4574 - val_accuracy: 0.4713\n",
            "Epoch 14/90\n",
            "157/157 [==============================] - 9s 54ms/step - loss: 1.4028 - accuracy: 0.5037 - val_loss: 1.4420 - val_accuracy: 0.4935\n",
            "Epoch 15/90\n",
            "157/157 [==============================] - 12s 74ms/step - loss: 1.3778 - accuracy: 0.5119 - val_loss: 1.4088 - val_accuracy: 0.5025\n",
            "Epoch 16/90\n",
            "157/157 [==============================] - 9s 59ms/step - loss: 1.3644 - accuracy: 0.5163 - val_loss: 1.3880 - val_accuracy: 0.5005\n",
            "Epoch 17/90\n",
            "157/157 [==============================] - 7s 46ms/step - loss: 1.3510 - accuracy: 0.5218 - val_loss: 1.3797 - val_accuracy: 0.5070\n",
            "Epoch 18/90\n",
            "157/157 [==============================] - 9s 60ms/step - loss: 1.3347 - accuracy: 0.5310 - val_loss: 1.4035 - val_accuracy: 0.5045\n",
            "Epoch 19/90\n",
            "157/157 [==============================] - 9s 57ms/step - loss: 1.3291 - accuracy: 0.5316 - val_loss: 1.3609 - val_accuracy: 0.5076\n",
            "Epoch 20/90\n",
            "157/157 [==============================] - 7s 46ms/step - loss: 1.3063 - accuracy: 0.5403 - val_loss: 1.3374 - val_accuracy: 0.5222\n",
            "Epoch 21/90\n",
            "157/157 [==============================] - 9s 59ms/step - loss: 1.2954 - accuracy: 0.5435 - val_loss: 1.3231 - val_accuracy: 0.5201\n",
            "Epoch 22/90\n",
            "157/157 [==============================] - 7s 47ms/step - loss: 1.2783 - accuracy: 0.5495 - val_loss: 1.3548 - val_accuracy: 0.5171\n",
            "Epoch 23/90\n",
            "157/157 [==============================] - 9s 59ms/step - loss: 1.2751 - accuracy: 0.5503 - val_loss: 1.3206 - val_accuracy: 0.5438\n",
            "Epoch 24/90\n",
            "157/157 [==============================] - 9s 59ms/step - loss: 1.2593 - accuracy: 0.5572 - val_loss: 1.3347 - val_accuracy: 0.5227\n",
            "Epoch 25/90\n",
            "157/157 [==============================] - 8s 50ms/step - loss: 1.2477 - accuracy: 0.5585 - val_loss: 1.2892 - val_accuracy: 0.5423\n",
            "Epoch 26/90\n",
            "157/157 [==============================] - 9s 60ms/step - loss: 1.2391 - accuracy: 0.5657 - val_loss: 1.2970 - val_accuracy: 0.5388\n",
            "Epoch 27/90\n",
            "157/157 [==============================] - 9s 57ms/step - loss: 1.2229 - accuracy: 0.5743 - val_loss: 1.2807 - val_accuracy: 0.5463\n",
            "Epoch 28/90\n",
            "157/157 [==============================] - 7s 47ms/step - loss: 1.2179 - accuracy: 0.5731 - val_loss: 1.2618 - val_accuracy: 0.5569\n",
            "Epoch 29/90\n",
            "157/157 [==============================] - 9s 60ms/step - loss: 1.2099 - accuracy: 0.5755 - val_loss: 1.2753 - val_accuracy: 0.5534\n",
            "Epoch 30/90\n",
            "157/157 [==============================] - 7s 46ms/step - loss: 1.1979 - accuracy: 0.5783 - val_loss: 1.3085 - val_accuracy: 0.5453\n",
            "Epoch 31/90\n",
            "157/157 [==============================] - 9s 60ms/step - loss: 1.1844 - accuracy: 0.5893 - val_loss: 1.2711 - val_accuracy: 0.5433\n",
            "Epoch 32/90\n",
            "157/157 [==============================] - 9s 59ms/step - loss: 1.1813 - accuracy: 0.5880 - val_loss: 1.2964 - val_accuracy: 0.5358\n",
            "Epoch 33/90\n",
            "157/157 [==============================] - 7s 47ms/step - loss: 1.1644 - accuracy: 0.5960 - val_loss: 1.2537 - val_accuracy: 0.5569\n",
            "Epoch 34/90\n",
            "157/157 [==============================] - 9s 59ms/step - loss: 1.1655 - accuracy: 0.5925 - val_loss: 1.2602 - val_accuracy: 0.5564\n",
            "Epoch 35/90\n",
            "157/157 [==============================] - 9s 54ms/step - loss: 1.1540 - accuracy: 0.5966 - val_loss: 1.2381 - val_accuracy: 0.5544\n",
            "Epoch 36/90\n",
            "157/157 [==============================] - 8s 50ms/step - loss: 1.1445 - accuracy: 0.6050 - val_loss: 1.2373 - val_accuracy: 0.5715\n",
            "Epoch 37/90\n",
            "157/157 [==============================] - 10s 61ms/step - loss: 1.1292 - accuracy: 0.6097 - val_loss: 1.2549 - val_accuracy: 0.5534\n",
            "Epoch 38/90\n",
            "157/157 [==============================] - 7s 46ms/step - loss: 1.1312 - accuracy: 0.6092 - val_loss: 1.2336 - val_accuracy: 0.5796\n",
            "Epoch 39/90\n",
            "157/157 [==============================] - 10s 61ms/step - loss: 1.1216 - accuracy: 0.6164 - val_loss: 1.2517 - val_accuracy: 0.5650\n",
            "Epoch 40/90\n",
            "157/157 [==============================] - 9s 60ms/step - loss: 1.1182 - accuracy: 0.6115 - val_loss: 1.2226 - val_accuracy: 0.5705\n",
            "Epoch 41/90\n",
            "157/157 [==============================] - 7s 47ms/step - loss: 1.1124 - accuracy: 0.6140 - val_loss: 1.2157 - val_accuracy: 0.5720\n",
            "Epoch 42/90\n",
            "157/157 [==============================] - 9s 60ms/step - loss: 1.1087 - accuracy: 0.6200 - val_loss: 1.2488 - val_accuracy: 0.5715\n",
            "Epoch 43/90\n",
            "157/157 [==============================] - 14s 90ms/step - loss: 1.0869 - accuracy: 0.6262 - val_loss: 1.2153 - val_accuracy: 0.5765\n",
            "Epoch 44/90\n",
            "157/157 [==============================] - 10s 61ms/step - loss: 1.0929 - accuracy: 0.6224 - val_loss: 1.2555 - val_accuracy: 0.5685\n",
            "Epoch 45/90\n",
            "157/157 [==============================] - 7s 47ms/step - loss: 1.0802 - accuracy: 0.6260 - val_loss: 1.2012 - val_accuracy: 0.5916\n",
            "Epoch 46/90\n",
            "157/157 [==============================] - 9s 60ms/step - loss: 1.0643 - accuracy: 0.6361 - val_loss: 1.2452 - val_accuracy: 0.5695\n",
            "Epoch 47/90\n",
            "157/157 [==============================] - 7s 46ms/step - loss: 1.0704 - accuracy: 0.6298 - val_loss: 1.2115 - val_accuracy: 0.5775\n",
            "Epoch 48/90\n",
            "157/157 [==============================] - 9s 59ms/step - loss: 1.0585 - accuracy: 0.6367 - val_loss: 1.1856 - val_accuracy: 0.5916\n",
            "Epoch 49/90\n",
            "157/157 [==============================] - 9s 59ms/step - loss: 1.0503 - accuracy: 0.6389 - val_loss: 1.1796 - val_accuracy: 0.5977\n",
            "Epoch 50/90\n",
            "157/157 [==============================] - 7s 47ms/step - loss: 1.0486 - accuracy: 0.6389 - val_loss: 1.2285 - val_accuracy: 0.5796\n",
            "Epoch 51/90\n",
            "157/157 [==============================] - 9s 60ms/step - loss: 1.0483 - accuracy: 0.6368 - val_loss: 1.1833 - val_accuracy: 0.5932\n",
            "Epoch 52/90\n",
            "157/157 [==============================] - 9s 58ms/step - loss: 1.0326 - accuracy: 0.6461 - val_loss: 1.1593 - val_accuracy: 0.6047\n",
            "Epoch 53/90\n",
            "157/157 [==============================] - 9s 55ms/step - loss: 1.0282 - accuracy: 0.6493 - val_loss: 1.2165 - val_accuracy: 0.5856\n",
            "Epoch 54/90\n",
            "157/157 [==============================] - 9s 60ms/step - loss: 1.0324 - accuracy: 0.6422 - val_loss: 1.1652 - val_accuracy: 0.5921\n",
            "Epoch 55/90\n",
            "157/157 [==============================] - 9s 56ms/step - loss: 1.0117 - accuracy: 0.6542 - val_loss: 1.1866 - val_accuracy: 0.5947\n",
            "Epoch 56/90\n",
            "157/157 [==============================] - 8s 49ms/step - loss: 1.0119 - accuracy: 0.6549 - val_loss: 1.1935 - val_accuracy: 0.5821\n",
            "Epoch 57/90\n",
            "157/157 [==============================] - 9s 60ms/step - loss: 0.9970 - accuracy: 0.6596 - val_loss: 1.1765 - val_accuracy: 0.5932\n",
            "Epoch 58/90\n",
            "157/157 [==============================] - 7s 46ms/step - loss: 0.9994 - accuracy: 0.6562 - val_loss: 1.1790 - val_accuracy: 0.5932\n",
            "Epoch 59/90\n",
            "157/157 [==============================] - 9s 60ms/step - loss: 0.9898 - accuracy: 0.6595 - val_loss: 1.1963 - val_accuracy: 0.5997\n",
            "Epoch 60/90\n",
            "157/157 [==============================] - 9s 59ms/step - loss: 0.9884 - accuracy: 0.6606 - val_loss: 1.1660 - val_accuracy: 0.6012\n",
            "Epoch 61/90\n",
            "157/157 [==============================] - 7s 47ms/step - loss: 0.9892 - accuracy: 0.6544 - val_loss: 1.1681 - val_accuracy: 0.5992\n",
            "Epoch 62/90\n",
            "157/157 [==============================] - 9s 60ms/step - loss: 0.9660 - accuracy: 0.6699 - val_loss: 1.1416 - val_accuracy: 0.6067\n",
            "Epoch 63/90\n",
            "157/157 [==============================] - 8s 52ms/step - loss: 0.9609 - accuracy: 0.6693 - val_loss: 1.1465 - val_accuracy: 0.6027\n",
            "Epoch 64/90\n",
            "157/157 [==============================] - 8s 52ms/step - loss: 0.9663 - accuracy: 0.6661 - val_loss: 1.1743 - val_accuracy: 0.5972\n",
            "Epoch 65/90\n",
            "157/157 [==============================] - 9s 60ms/step - loss: 0.9534 - accuracy: 0.6709 - val_loss: 1.1706 - val_accuracy: 0.6032\n",
            "Epoch 66/90\n",
            "157/157 [==============================] - 7s 45ms/step - loss: 0.9559 - accuracy: 0.6737 - val_loss: 1.1468 - val_accuracy: 0.6073\n",
            "Epoch 67/90\n",
            "157/157 [==============================] - 9s 60ms/step - loss: 0.9419 - accuracy: 0.6755 - val_loss: 1.1685 - val_accuracy: 0.6078\n",
            "Epoch 68/90\n",
            "157/157 [==============================] - 9s 59ms/step - loss: 0.9458 - accuracy: 0.6727 - val_loss: 1.1459 - val_accuracy: 0.6037\n",
            "Epoch 69/90\n",
            "157/157 [==============================] - 7s 47ms/step - loss: 0.9298 - accuracy: 0.6813 - val_loss: 1.1584 - val_accuracy: 0.5916\n",
            "Epoch 70/90\n",
            "157/157 [==============================] - 9s 60ms/step - loss: 0.9184 - accuracy: 0.6901 - val_loss: 1.1404 - val_accuracy: 0.6067\n",
            "Epoch 71/90\n",
            "157/157 [==============================] - 8s 51ms/step - loss: 0.9280 - accuracy: 0.6780 - val_loss: 1.1699 - val_accuracy: 0.6037\n",
            "Epoch 72/90\n",
            "157/157 [==============================] - 9s 54ms/step - loss: 0.9211 - accuracy: 0.6825 - val_loss: 1.1313 - val_accuracy: 0.6178\n",
            "Epoch 73/90\n",
            "157/157 [==============================] - 9s 60ms/step - loss: 0.9071 - accuracy: 0.6908 - val_loss: 1.1336 - val_accuracy: 0.6083\n",
            "Epoch 74/90\n",
            "157/157 [==============================] - 7s 46ms/step - loss: 0.9011 - accuracy: 0.6907 - val_loss: 1.1305 - val_accuracy: 0.6032\n",
            "Epoch 75/90\n",
            "157/157 [==============================] - 10s 61ms/step - loss: 0.9142 - accuracy: 0.6861 - val_loss: 1.1217 - val_accuracy: 0.6098\n",
            "Epoch 76/90\n",
            "157/157 [==============================] - 9s 60ms/step - loss: 0.8916 - accuracy: 0.6979 - val_loss: 1.1295 - val_accuracy: 0.6163\n",
            "Epoch 77/90\n",
            "157/157 [==============================] - 7s 47ms/step - loss: 0.8892 - accuracy: 0.6947 - val_loss: 1.1439 - val_accuracy: 0.6118\n",
            "Epoch 78/90\n",
            "157/157 [==============================] - 9s 60ms/step - loss: 0.8779 - accuracy: 0.6975 - val_loss: 1.1355 - val_accuracy: 0.6118\n",
            "Epoch 79/90\n",
            "157/157 [==============================] - 8s 53ms/step - loss: 0.8843 - accuracy: 0.6888 - val_loss: 1.1486 - val_accuracy: 0.5997\n",
            "Epoch 80/90\n",
            "157/157 [==============================] - 9s 55ms/step - loss: 0.8819 - accuracy: 0.6943 - val_loss: 1.1634 - val_accuracy: 0.6052\n",
            "Epoch 81/90\n",
            "157/157 [==============================] - 9s 60ms/step - loss: 0.8771 - accuracy: 0.7001 - val_loss: 1.1319 - val_accuracy: 0.6188\n",
            "Epoch 82/90\n",
            "157/157 [==============================] - 7s 46ms/step - loss: 0.8611 - accuracy: 0.7027 - val_loss: 1.1596 - val_accuracy: 0.6052\n",
            "Epoch 83/90\n",
            "157/157 [==============================] - 9s 59ms/step - loss: 0.8722 - accuracy: 0.6970 - val_loss: 1.1371 - val_accuracy: 0.6067\n",
            "Epoch 84/90\n",
            "157/157 [==============================] - 9s 60ms/step - loss: 0.8566 - accuracy: 0.7031 - val_loss: 1.1589 - val_accuracy: 0.6178\n",
            "Epoch 85/90\n",
            "157/157 [==============================] - 7s 46ms/step - loss: 0.8553 - accuracy: 0.7042 - val_loss: 1.2072 - val_accuracy: 0.5937\n",
            "Epoch 86/90\n",
            "157/157 [==============================] - 9s 60ms/step - loss: 0.8474 - accuracy: 0.7058 - val_loss: 1.1418 - val_accuracy: 0.6148\n",
            "Epoch 87/90\n",
            "157/157 [==============================] - 7s 47ms/step - loss: 0.8454 - accuracy: 0.7103 - val_loss: 1.1235 - val_accuracy: 0.6133\n",
            "Epoch 88/90\n",
            "157/157 [==============================] - 9s 57ms/step - loss: 0.8376 - accuracy: 0.7110 - val_loss: 1.1567 - val_accuracy: 0.6128\n",
            "Epoch 89/90\n",
            "157/157 [==============================] - 9s 60ms/step - loss: 0.8393 - accuracy: 0.7135 - val_loss: 1.1186 - val_accuracy: 0.6113\n",
            "Epoch 90/90\n",
            "157/157 [==============================] - 7s 47ms/step - loss: 0.8236 - accuracy: 0.7169 - val_loss: 1.1633 - val_accuracy: 0.6108\n"
          ]
        }
      ]
    },
    {
      "cell_type": "code",
      "source": [
        "import matplotlib.pyplot as plt\n",
        "\n",
        "fig, axs = plt.subplots(2, figsize=(12, 12))\n",
        "\n",
        "axs[0].plot(history.history['accuracy'])\n",
        "axs[0].plot(history.history['val_accuracy'])\n",
        "axs[0].legend(['accuracy','val_accuracy'])\n",
        "axs[0].set_title('Accuracy')\n",
        "\n",
        "axs[1].plot(history.history['loss'])\n",
        "axs[1].plot(history.history['val_loss'])\n",
        "axs[1].legend(['loss','val_loss'])\n",
        "axs[1].set_title('Loss')\n",
        "\n",
        "\n",
        "plt.show()\n",
        "\n",
        "train_loss, train_acc = model.evaluate(X_train, Y_train, verbose = 2)\n",
        "test_loss, test_acc = model.evaluate(X_test, Y_test, verbose = 2)\n",
        "print('Training accuracy:', train_acc)\n",
        "print('Test accuracy:', test_acc)\n"
      ],
      "metadata": {
        "colab": {
          "base_uri": "https://localhost:8080/",
          "height": 1000
        },
        "id": "MiDvCj4Ag8s1",
        "outputId": "53911ce8-2c12-49cd-8d61-da66d38982a0"
      },
      "execution_count": 15,
      "outputs": [
        {
          "output_type": "display_data",
          "data": {
            "text/plain": [
              "<Figure size 1200x1200 with 2 Axes>"
            ],
            "image/png": "[encoded data removed]"
          },
          "metadata": {}
        },
        {
          "output_type": "stream",
          "name": "stdout",
          "text": [
            "313/313 - 2s - loss: 0.8353 - accuracy: 0.7061 - 2s/epoch - 7ms/step\n",
            "63/63 - 0s - loss: 1.1633 - accuracy: 0.6108 - 333ms/epoch - 5ms/step\n",
            "Training accuracy: 0.7060999870300293\n",
            "Test accuracy: 0.6107754111289978\n"
          ]
        }
      ]
    },
    {
      "cell_type": "code",
      "source": [
        "# Importing libraries\n",
        "from sklearn.metrics import classification_report, accuracy_score\n",
        "\n",
        "# Training data\n",
        "train_predictions = model.predict(X_train)\n",
        "train_predictions = np.argmax(train_predictions, axis=1)\n",
        "train_true = np.argmax(Y_train, axis=1)\n",
        "\n",
        "print(\"Training Results:\")\n",
        "print(\"Accuracy Score:\", accuracy_score(train_true, train_predictions))\n",
        "print(classification_report(train_true, train_predictions))\n",
        "\n",
        "# Test data\n",
        "test_predictions = model.predict(X_test)\n",
        "test_predictions = np.argmax(test_predictions, axis=1)\n",
        "test_true = np.argmax(Y_test, axis=1)\n",
        "\n",
        "print(\"Test Results:\")\n",
        "print(\"Accuracy Score:\", accuracy_score(test_true, test_predictions))\n",
        "print(classification_report(test_true, test_predictions))\n",
        "\n"
      ],
      "metadata": {
        "colab": {
          "base_uri": "https://localhost:8080/"
        },
        "id": "Talacz4HrR_5",
        "outputId": "64c9e4c3-3fae-47be-e465-52d21eb58a6c"
      },
      "execution_count": 14,
      "outputs": [
        {
          "output_type": "stream",
          "name": "stdout",
          "text": [
            "313/313 [==============================] - 3s 11ms/step\n",
            "Training Results:\n",
            "Accuracy Score: 0.7061\n",
            "              precision    recall  f1-score   support\n",
            "\n",
            "           0       0.54      0.78      0.64      1002\n",
            "           1       0.82      0.94      0.88      1001\n",
            "           2       0.72      0.55      0.62      1003\n",
            "           3       0.75      0.58      0.65       984\n",
            "           4       0.68      0.83      0.75      1001\n",
            "           5       0.72      0.59      0.65       968\n",
            "           6       0.91      0.85      0.88      1030\n",
            "           7       0.79      0.79      0.79      1010\n",
            "           8       0.57      0.65      0.61      1000\n",
            "           9       0.65      0.49      0.56      1001\n",
            "\n",
            "    accuracy                           0.71     10000\n",
            "   macro avg       0.71      0.71      0.70     10000\n",
            "weighted avg       0.72      0.71      0.70     10000\n",
            "\n",
            "63/63 [==============================] - 0s 6ms/step\n",
            "Test Results:\n",
            "Accuracy Score: 0.6107754279959718\n",
            "              precision    recall  f1-score   support\n",
            "\n",
            "           0       0.49      0.69      0.57       205\n",
            "           1       0.77      0.90      0.83       227\n",
            "           2       0.56      0.45      0.50       190\n",
            "           3       0.62      0.39      0.48       221\n",
            "           4       0.59      0.77      0.67       182\n",
            "           5       0.58      0.47      0.52       205\n",
            "           6       0.84      0.81      0.82       181\n",
            "           7       0.65      0.71      0.68       198\n",
            "           8       0.53      0.57      0.55       200\n",
            "           9       0.44      0.33      0.38       177\n",
            "\n",
            "    accuracy                           0.61      1986\n",
            "   macro avg       0.61      0.61      0.60      1986\n",
            "weighted avg       0.61      0.61      0.60      1986\n",
            "\n"
          ]
        }
      ]
    },
    {
      "cell_type": "markdown",
      "source": [
        "References: \n",
        "Music Genre Recognition: https://github.com/EsratMaria/MusicGenreRecogniton "
      ],
      "metadata": {
        "id": "MlsbeFrpesHF"
      }
    }
  ]
}